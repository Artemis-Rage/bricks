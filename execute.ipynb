{
 "cells": [
  {
   "cell_type": "code",
   "execution_count": null,
   "id": "b1a874fa",
   "metadata": {},
   "outputs": [],
   "source": [
    "import datetime\n",
    "import os\n",
    "import pathlib\n",
    "import re\n",
    "import subprocess\n",
    "\n",
    "import pandas as pd\n",
    "\n",
    "log_dir = '.logs'\n",
    "\n",
    "def run_file(file_path):\n",
    "  now = datetime.datetime.now().strftime('%Y%m%dT%H%M%S')\n",
    "  stem = pathlib.Path(file_path).stem\n",
    "  log_name = f'{stem}_{now}.csv'\n",
    "  result = subprocess.run(\n",
    "      f'pybricksdev run ble {file_path}',\n",
    "      shell=True,\n",
    "      capture_output=True,\n",
    "      text=True)\n",
    "\n",
    "  if result.returncode != 0:\n",
    "      print('Error running program:')\n",
    "      print(result.stderr)\n",
    "\n",
    "  else:\n",
    "    parsed = re.search(\n",
    "        r'(.*)<START LOGS>(.*?)<END LOGS>(.*)',\n",
    "        result.stdout,\n",
    "        re.DOTALL,\n",
    "    )\n",
    "    if not parsed:\n",
    "      print('No logs found in output.')\n",
    "      print('STDOUT:')\n",
    "      print(result.stdout)\n",
    "      print('\\nSTDERR:')\n",
    "      print(result.stderr)\n",
    "  \n",
    "    else:\n",
    "      print('STDOUT:')\n",
    "      print(parsed.group(1))\n",
    "      print(parsed.group(3))\n",
    "      print('\\nSTDERR:')\n",
    "      print(result.stderr)\n",
    "      logs = parsed.group(2)\n",
    "      log_path = os.path.join(log_dir, log_name)\n",
    "      with open(log_path, 'w') as f:\n",
    "        f.write(logs)\n",
    "      print(f'Wrote logs to {log_path}')\n",
    "      df = pd.read_csv(log_path)\n",
    "      return df"
   ]
  },
  {
   "cell_type": "code",
   "execution_count": 53,
   "id": "fce0544c",
   "metadata": {},
   "outputs": [
    {
     "name": "stdout",
     "output_type": "stream",
     "text": [
      "No logs found in output.\n",
      "Searching for any hub with Pybricks service...\n",
      "\n"
     ]
    }
   ],
   "source": [
    "df = run_file('scratch.py')"
   ]
  },
  {
   "cell_type": "code",
   "execution_count": null,
   "id": "3c870316",
   "metadata": {},
   "outputs": [],
   "source": []
  }
 ],
 "metadata": {
  "kernelspec": {
   "display_name": ".venv",
   "language": "python",
   "name": "python3"
  },
  "language_info": {
   "codemirror_mode": {
    "name": "ipython",
    "version": 3
   },
   "file_extension": ".py",
   "mimetype": "text/x-python",
   "name": "python",
   "nbconvert_exporter": "python",
   "pygments_lexer": "ipython3",
   "version": "3.13.7"
  }
 },
 "nbformat": 4,
 "nbformat_minor": 5
}
